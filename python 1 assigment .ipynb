{
 "cells": [
  {
   "cell_type": "markdown",
   "id": "0b088248-6dd9-449a-9030-63c12bcdc5f9",
   "metadata": {},
   "source": [
    " explain the key features of python that make it a poplar choice for programming \n",
    "\n",
    "ans : widely used in industry \n",
    "    a lot of libraries (137000)\n",
    "    ease of learning \n",
    "    support offf big data\n",
    "    data visualisation capability\n",
    "    support of big data\n",
    "    open source and free"
   ]
  },
  {
   "cell_type": "markdown",
   "id": "90c2bcbd-19a3-4871-b657-584366cfb17a",
   "metadata": {},
   "source": [
    " describe the role of predefined keywords in python and provide example of how they are used in a program\n",
    " \n",
    "ans :  Predefined keywords in Python, also known as reserved words, are the words that have special meaning and are reserved by the Python language. These keywords are part of the language syntax \n",
    "\n",
    "let me some examples\n",
    "\n",
    "\n"
   ]
  },
  {
   "cell_type": "code",
   "execution_count": 12,
   "id": "083039a2-e26a-427d-8e18-c6fa9a73c48a",
   "metadata": {},
   "outputs": [],
   "source": [
    "name = \"sagar\" "
   ]
  },
  {
   "cell_type": "code",
   "execution_count": 13,
   "id": "f0ee14ad-dffe-41db-b8e3-673d8d25eff0",
   "metadata": {},
   "outputs": [],
   "source": [
    "age = 19"
   ]
  },
  {
   "cell_type": "code",
   "execution_count": 14,
   "id": "8a5c5952-3305-45a2-9d4c-0b3b5bef8226",
   "metadata": {},
   "outputs": [],
   "source": [
    "price = 29.9"
   ]
  },
  {
   "cell_type": "code",
   "execution_count": 15,
   "id": "bab7f93c-3ea5-487f-92d7-0476be70762f",
   "metadata": {},
   "outputs": [],
   "source": [
    "old = False"
   ]
  },
  {
   "cell_type": "code",
   "execution_count": 16,
   "id": "a5095d1f-5d37-4f5d-868f-9224c0eb6f15",
   "metadata": {},
   "outputs": [],
   "source": [
    "a = None"
   ]
  },
  {
   "cell_type": "markdown",
   "id": "a2b90c88-d044-40ed-ad89-0f1307218c2c",
   "metadata": {},
   "source": []
  },
  {
   "cell_type": "raw",
   "id": "4178b11f-f72d-4fc1-97a1-374334cf1d1b",
   "metadata": {},
   "source": [
    "print(type(name))"
   ]
  },
  {
   "cell_type": "code",
   "execution_count": 18,
   "id": "8c8169c4-b9aa-40c0-b6d8-d2c3548eece0",
   "metadata": {},
   "outputs": [
    {
     "name": "stdout",
     "output_type": "stream",
     "text": [
      "<class 'int'>\n"
     ]
    }
   ],
   "source": [
    "print(type(age)) \n"
   ]
  },
  {
   "cell_type": "code",
   "execution_count": 19,
   "id": "1d98ed08-9364-4c52-8c8f-e799a4046d11",
   "metadata": {},
   "outputs": [
    {
     "name": "stdout",
     "output_type": "stream",
     "text": [
      "<class 'float'>\n"
     ]
    }
   ],
   "source": [
    "print(type(price))"
   ]
  },
  {
   "cell_type": "code",
   "execution_count": 20,
   "id": "08b64568-b055-43bf-b088-32207a0ee661",
   "metadata": {},
   "outputs": [
    {
     "name": "stdout",
     "output_type": "stream",
     "text": [
      "<class 'bool'>\n"
     ]
    }
   ],
   "source": [
    "print(type(old))"
   ]
  },
  {
   "cell_type": "code",
   "execution_count": 21,
   "id": "348a8132-71a1-45ea-be4d-bd4f19da80cd",
   "metadata": {},
   "outputs": [
    {
     "name": "stdout",
     "output_type": "stream",
     "text": [
      "<class 'NoneType'>\n"
     ]
    }
   ],
   "source": [
    "print(type(a))"
   ]
  },
  {
   "cell_type": "markdown",
   "id": "03f7bd14-001a-447b-902d-25d68236143f",
   "metadata": {},
   "source": []
  },
  {
   "cell_type": "markdown",
   "id": "f64bcebd-1638-4a1c-b107-30e3385a708e",
   "metadata": {},
   "source": [
    "Compare and contrasts mutable and immutable objects in python and provide examples of how they are used .\n",
    "\n",
    "\n",
    "ans: MUTABLE OBJECTS\n",
    "Definition: Mutable objects are objects whose state or contents can be changed after they are created.\n",
    "Examples: Lists, dictionaries, sets, and user-defined objects are some of the most common mutable objects in Python.\n"
   ]
  },
  {
   "cell_type": "code",
   "execution_count": 1,
   "id": "b965df48-9873-43bb-8de8-51db57157496",
   "metadata": {},
   "outputs": [
    {
     "name": "stdout",
     "output_type": "stream",
     "text": [
      "Original List: [1, 2, 3]\n",
      "Modified List: [1, 2, 3, 4]\n"
     ]
    }
   ],
   "source": [
    "# Example of a mutable object: List\n",
    "my_list = [1, 2, 3]\n",
    "print(f\"Original List: {my_list}\")\n",
    "\n",
    "# Modifying the mutable list\n",
    "my_list.append(4)\n",
    "print(f\"Modified List: {my_list}\")  # Output: [1, 2, 3, 4]\n"
   ]
  },
  {
   "cell_type": "markdown",
   "id": "27d4ec22-9ac1-4de5-aff1-d576fc7560d5",
   "metadata": {},
   "source": [
    "IMMUTABLE OBJECTS\n",
    "Definition: Immutable objects are objects whose state or contents cannot be changed after they are created.\n",
    "Examples: Integers, floats, strings, tuples, and frozensets are some of the most common immutable objects in Python.\n"
   ]
  },
  {
   "cell_type": "code",
   "execution_count": 2,
   "id": "74653e78-766d-433a-b4f7-438e83ccfed6",
   "metadata": {},
   "outputs": [
    {
     "name": "stdout",
     "output_type": "stream",
     "text": [
      "Original String: Hello\n",
      "New String: Hello World\n",
      "Original String after modification attempt: Hello\n"
     ]
    }
   ],
   "source": [
    "# Example of an immutable object: String\n",
    "my_string = \"Hello\"\n",
    "print(f\"Original String: {my_string}\")\n",
    "\n",
    "# Attempting to modify the immutable string\n",
    "new_string = my_string + \" World\"\n",
    "print(f\"New String: {new_string}\")   # Output: \"Hello World\"\n",
    "print(f\"Original String after modification attempt: {my_string}\")  # Output: \"Hello\"\n",
    "\n"
   ]
  },
  {
   "cell_type": "markdown",
   "id": "e7d344b5-21bc-40d2-8f14-92156e3f1601",
   "metadata": {},
   "source": []
  },
  {
   "cell_type": "markdown",
   "id": "b9241c13-7980-4dc9-93fe-d08aa2b85ac0",
   "metadata": {},
   "source": [
    "discuss the different types of operators in python and provide example of how they are used\n",
    "\n",
    "ans: Types of Operators in Python\n",
    "Arithmetic Operators\n",
    "Comparison (Relational) Operators\n",
    "Logical Operators\n",
    "Bitwise Operators\n",
    "Assignment Operators\n",
    "Identity Operators\n",
    "Membership Operators"
   ]
  },
  {
   "cell_type": "markdown",
   "id": "52d717f0-7100-4f52-be32-4a2848d11b8a",
   "metadata": {},
   "source": [
    "Arithmetic operator"
   ]
  },
  {
   "cell_type": "code",
   "execution_count": 4,
   "id": "22119a3f-1f04-43f3-a5f1-0184c86fcd16",
   "metadata": {},
   "outputs": [
    {
     "name": "stdout",
     "output_type": "stream",
     "text": [
      "13\n",
      "7\n",
      "30\n",
      "3.3333333333333335\n",
      "1\n",
      "1000\n",
      "3\n"
     ]
    }
   ],
   "source": [
    "x = 10\n",
    "y = 3\n",
    "\n",
    "print(x + y)   \n",
    "print(x - y)  \n",
    "print(x * y)   \n",
    "print(x / y)  \n",
    "print(x % y)   \n",
    "print(x ** y)  \n",
    "print(x // y) \n"
   ]
  },
  {
   "cell_type": "markdown",
   "id": "60d1942e-63a2-4b4b-bc32-87e19a53439c",
   "metadata": {},
   "source": [
    "comparison operators"
   ]
  },
  {
   "cell_type": "code",
   "execution_count": 5,
   "id": "ea3ba2cd-3bb0-425a-b66b-77d94be39fc5",
   "metadata": {},
   "outputs": [
    {
     "name": "stdout",
     "output_type": "stream",
     "text": [
      "False\n",
      "True\n",
      "False\n",
      "True\n",
      "False\n",
      "True\n"
     ]
    }
   ],
   "source": [
    "x = 5\n",
    "y = 10\n",
    "\n",
    "print(x == y)   # Output: False\n",
    "print(x != y)   # Output: True\n",
    "print(x > y)    # Output: False\n",
    "print(x < y)    # Output: True\n",
    "print(x >= y)   # Output: False\n",
    "print(x <= y)   # Output: True\n",
    "\n",
    "\n"
   ]
  },
  {
   "cell_type": "markdown",
   "id": "ddaf6c2d-0d64-442b-a843-cdfd8237eb56",
   "metadata": {},
   "source": [
    "logical operators"
   ]
  },
  {
   "cell_type": "code",
   "execution_count": 6,
   "id": "d6b4fa8f-e119-4579-aa92-0474bd80ff61",
   "metadata": {},
   "outputs": [
    {
     "name": "stdout",
     "output_type": "stream",
     "text": [
      "True\n",
      "True\n",
      "False\n"
     ]
    }
   ],
   "source": [
    "x = 7\n",
    "y = 12\n",
    "\n",
    "print(x > 5 and y < 15)   # Output: True (both conditions are true)\n",
    "print(x > 5 or y > 15)    # Output: True (one condition is true)\n",
    "print(not(x > 5))         # Output: False (x > 5 is True, not makes it False)\n",
    "\n"
   ]
  },
  {
   "cell_type": "markdown",
   "id": "5228b27c-7768-45de-aa52-d3d71fad5fcd",
   "metadata": {},
   "source": [
    "bitwise operator"
   ]
  },
  {
   "cell_type": "code",
   "execution_count": 7,
   "id": "c36ea95a-38c1-4b30-a357-01e943d913ca",
   "metadata": {},
   "outputs": [
    {
     "name": "stdout",
     "output_type": "stream",
     "text": [
      "0\n",
      "14\n",
      "14\n",
      "-11\n",
      "40\n",
      "2\n"
     ]
    }
   ],
   "source": [
    "x = 10  # Binary: 1010\n",
    "y = 4   # Binary: 0100\n",
    "\n",
    "print(x & y)   # Output: 0  (Binary: 0000)\n",
    "print(x | y)   # Output: 14 (Binary: 1110)\n",
    "print(x ^ y)   # Output: 14 (Binary: 1110)\n",
    "print(~x)      # Output: -11 (Binary: complement of 1010 -> 0101)\n",
    "print(x << 2)  # Output: 40 (Binary: 101000)\n",
    "print(x >> 2)  # Output: 2  (Binary: 0010)\n",
    "\n",
    "\n"
   ]
  },
  {
   "cell_type": "markdown",
   "id": "f7cb4049-d74e-4de4-9b90-df3a63c7746e",
   "metadata": {},
   "source": [
    "assignment operators"
   ]
  },
  {
   "cell_type": "code",
   "execution_count": 8,
   "id": "215b6bb2-4bde-453c-a529-51b791e123f7",
   "metadata": {},
   "outputs": [
    {
     "name": "stdout",
     "output_type": "stream",
     "text": [
      "8\n",
      "16\n"
     ]
    }
   ],
   "source": [
    "x = 5\n",
    "x += 3   # Equivalent to x = x + 3\n",
    "print(x)  # Output: 8\n",
    "\n",
    "x *= 2   # Equivalent to x = x * 2\n",
    "print(x)  # Output: 16\n"
   ]
  },
  {
   "cell_type": "markdown",
   "id": "c92af91c-07f6-4e2e-afcf-5af7e2d3ab2b",
   "metadata": {},
   "source": [
    "identifying operators"
   ]
  },
  {
   "cell_type": "code",
   "execution_count": 9,
   "id": "67914655-a344-4250-b56c-afa6c4f81e8d",
   "metadata": {},
   "outputs": [
    {
     "name": "stdout",
     "output_type": "stream",
     "text": [
      "True\n",
      "False\n",
      "True\n"
     ]
    }
   ],
   "source": [
    "x = [1, 2, 3]\n",
    "y = x\n",
    "z = [1, 2, 3]\n",
    "\n",
    "print(x is y)    # Output: True (y references the same object as x)\n",
    "print(x is z)    # Output: False (z is a different object with the same content)\n",
    "print(x is not z) # Output: True\n"
   ]
  },
  {
   "cell_type": "markdown",
   "id": "a16a800f-7fd5-46a2-91de-bd4ff19d09b4",
   "metadata": {},
   "source": [
    "membership operators"
   ]
  },
  {
   "cell_type": "code",
   "execution_count": 10,
   "id": "1c88d212-caac-4941-b9cf-cc8e94cd4656",
   "metadata": {},
   "outputs": [
    {
     "name": "stdout",
     "output_type": "stream",
     "text": [
      "True\n",
      "True\n"
     ]
    }
   ],
   "source": [
    "x = [1, 2, 3, 4, 5]\n",
    "\n",
    "print(3 in x)      # Output: True (3 is present in the list)\n",
    "print(6 not in x)  # Output: True (6 is not present in the list)\n"
   ]
  },
  {
   "cell_type": "markdown",
   "id": "6a91a1ea-efab-4035-b70a-432c1c2907f7",
   "metadata": {},
   "source": []
  },
  {
   "cell_type": "markdown",
   "id": "de7a1398-07fd-4015-86dc-2fa0115982f4",
   "metadata": {},
   "source": [
    "EXPLAIN THE CONCEPT OF TYPE CASTING IN PYTHON WITH EXAMPLE\n",
    "\n",
    "ANS : Implicit Type Casting\n",
    "Python automatically converts smaller data types (like integers) to larger data types (like floats) to prevent data loss."
   ]
  },
  {
   "cell_type": "markdown",
   "id": "de411448-3569-4254-addf-a6ee727d7f5b",
   "metadata": {},
   "source": [
    "example of implicit type casting "
   ]
  },
  {
   "cell_type": "code",
   "execution_count": 11,
   "id": "e36f57cf-9292-4c3a-a5b1-e52782664efd",
   "metadata": {},
   "outputs": [
    {
     "name": "stdout",
     "output_type": "stream",
     "text": [
      "13.5\n",
      "<class 'float'>\n"
     ]
    }
   ],
   "source": [
    "x = 10   # Integer\n",
    "y = 3.5  # Float\n",
    "\n",
    "# Python automatically converts x to float\n",
    "result = x + y\n",
    "\n",
    "print(result)        # Output: 13.5\n",
    "print(type(result))  # Output: <class 'float'>\n"
   ]
  },
  {
   "cell_type": "markdown",
   "id": "95e40b44-7c06-4b99-8760-e5605232db8b",
   "metadata": {},
   "source": [
    "Explicit Type Casting\n",
    "Explicit type casting is done using Python's built-in functions to convert one data type to another."
   ]
  },
  {
   "cell_type": "code",
   "execution_count": 12,
   "id": "07f6a9b1-f90c-4440-ace2-42046f59d009",
   "metadata": {},
   "outputs": [
    {
     "name": "stdout",
     "output_type": "stream",
     "text": [
      "3\n",
      "<class 'int'>\n",
      "50\n",
      "<class 'int'>\n",
      "25\n",
      "<class 'str'>\n"
     ]
    }
   ],
   "source": [
    "# Converting float to integer\n",
    "num_float = 3.8\n",
    "num_int = int(num_float)  # Explicitly converting float to int\n",
    "\n",
    "print(num_int)        # Output: 3\n",
    "print(type(num_int))  # Output: <class 'int'>\n",
    "\n",
    "# Converting string to integer\n",
    "num_str = \"50\"\n",
    "num_int = int(num_str)  # Explicitly converting string to int\n",
    "\n",
    "print(num_int)        # Output: 50\n",
    "print(type(num_int))  # Output: <class 'int'>\n",
    "\n",
    "# Converting integer to string\n",
    "age = 25\n",
    "age_str = str(age)  # Explicitly converting int to string\n",
    "\n",
    "print(age_str)       # Output: \"25\"\n",
    "print(type(age_str)) # Output: <class 'str'>\n"
   ]
  },
  {
   "cell_type": "markdown",
   "id": "bfca1255-e199-470c-85ac-ec19f044db7c",
   "metadata": {},
   "source": []
  },
  {
   "cell_type": "markdown",
   "id": "cae9f8c0-23c1-483f-a1ce-257ac1845431",
   "metadata": {},
   "source": [
    "HOW TO CONDITONAL STATEMENT WORK IN PYTHON ? ILLUSTRATE WITH EXAMPLES ."
   ]
  },
  {
   "cell_type": "markdown",
   "id": "be6f9d9b-95fb-41a0-8c42-74cdfe6c1a5a",
   "metadata": {},
   "source": [
    " ANS : Conditional statements in Python are used to make decisions based on certain conditions. They allow you to execute a block of code only if a specific condition is met. The most common conditional statements in Python are if, elif, and else.\n",
    "\n",
    "Example:"
   ]
  },
  {
   "cell_type": "code",
   "execution_count": 1,
   "id": "b0aa42b1-13b6-40f3-9ee9-c15276122e23",
   "metadata": {},
   "outputs": [
    {
     "name": "stdout",
     "output_type": "stream",
     "text": [
      "You are eligible to vote.\n"
     ]
    }
   ],
   "source": [
    "age = 18\n",
    "\n",
    "if age >= 18:\n",
    "    print(\"You are eligible to vote.\")\n"
   ]
  },
  {
   "cell_type": "markdown",
   "id": "bffec3a9-a353-4e28-b4eb-98d33c97d04d",
   "metadata": {},
   "source": [
    "DESCRIBE THE DIERENT TYPES OF LOOPS IN PYTHON AND THEIR USE CASES WITH EXAMPLE .\n",
    "\n",
    "ANS : Python provides two main types of loops: for loops and while loops. These loops are used to execute a block of code repeatedly based on certain conditions.\n",
    "\n",
    "1. for Loop\n",
    "The for loop is used to iterate over a sequence (like a list, tuple, dictionary, set, or string) or any other iterable object. With each iteration, it assigns the next value from the sequence to the loop variable.\n",
    "\n",
    "Use Case:\n",
    "When you know the number of iterations in advance, or when you want to iterate over a collection of items.\n",
    "\n",
    "Example: Iterating Over a List"
   ]
  },
  {
   "cell_type": "code",
   "execution_count": 2,
   "id": "73a604fc-de5a-41ec-b2dc-cacb332a975b",
   "metadata": {},
   "outputs": [
    {
     "name": "stdout",
     "output_type": "stream",
     "text": [
      "apple\n",
      "banana\n",
      "cherry\n"
     ]
    }
   ],
   "source": [
    "fruits = [\"apple\", \"banana\", \"cherry\"]\n",
    "\n",
    "for fruit in fruits:\n",
    "    print(fruit)\n",
    "\n",
    "    "
   ]
  },
  {
   "cell_type": "markdown",
   "id": "e8d58655-ebd9-44f1-a1f1-f2e920334319",
   "metadata": {},
   "source": [
    "2. while Loop\n",
    "The while loop continues to execute a block of code as long as a specified condition is True. If the condition becomes False, the loop stops.\n",
    "\n",
    "Use Case:\n",
    "When the number of iterations is not known in advance, and you want to repeat an action until a specific condition is met.\n",
    "\n",
    "Example: Counting with a while Loop"
   ]
  },
  {
   "cell_type": "code",
   "execution_count": 4,
   "id": "618812a2-4bdf-472c-89d3-20836bd54f11",
   "metadata": {},
   "outputs": [
    {
     "name": "stdout",
     "output_type": "stream",
     "text": [
      "Count is: 0\n",
      "Count is: 1\n",
      "Count is: 2\n",
      "Count is: 3\n",
      "Count is: 4\n"
     ]
    }
   ],
   "source": [
    "count = 0\n",
    "\n",
    "while count < 5:\n",
    "    print(\"Count is:\", count)\n",
    "    count += 1\n",
    "\n",
    "    "
   ]
  },
  {
   "cell_type": "markdown",
   "id": "8b045b66-5f4a-4b38-8feb-b55d0dadce03",
   "metadata": {},
   "source": [
    "                                                                    \n",
    "    \n",
    "    \n",
    "    \n",
    "                                                                               ~  COMPLETED BY SAGAR MAHESHWARI"
   ]
  }
 ],
 "metadata": {
  "kernelspec": {
   "display_name": "R",
   "language": "R",
   "name": "ir"
  },
  "language_info": {
   "codemirror_mode": "r",
   "file_extension": ".r",
   "mimetype": "text/x-r-source",
   "name": "R",
   "pygments_lexer": "r",
   "version": "4.2.2"
  }
 },
 "nbformat": 4,
 "nbformat_minor": 5
}
